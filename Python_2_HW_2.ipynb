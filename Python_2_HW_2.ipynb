{
  "cells": [
    {
      "cell_type": "markdown",
      "metadata": {
        "id": "5ktPX0pCqSRN"
      },
      "source": [
        "#Продвинутый Python, ДЗ-2\n",
        "\n",
        "Правила игры:\n",
        "\n",
        "В домашке 8 задач, разбаловка указана в задании. Суммарно за дз можно получить 100 баллов, что равняется 10 баллам\n",
        "\n",
        "В каждой задаче необходимо реализовать функцию, которая после будет проверяться через github classroom на тестах. Сами тесты лежит в гитхабе, можете локально проверить работу функций перед сдачей\n",
        "\n",
        "Дедлайн - 7 дней после выдачи дз. Необходимо залить решеннный ноутбук в github и прислать ссылку в Anytask (без выполнения любого из пунктов работа проверяться не будет)\n",
        "\n",
        "В данной домашке нужно использовать pandas"
      ]
    },
    {
      "cell_type": "code",
      "execution_count": 1,
      "metadata": {
        "id": "Rlek5byfvxPo"
      },
      "outputs": [],
      "source": [
        "# https://stackoverflow.com/a/60658965/7286121\n",
        "\n",
        "from IPython.core.magic import register_cell_magic\n",
        "\n",
        "@register_cell_magic\n",
        "def write_and_run(line, cell):\n",
        "    argz = line.split()\n",
        "    file = argz[-1]\n",
        "    mode = 'w'\n",
        "    if len(argz) == 2 and argz[0] == '-a':\n",
        "        mode = 'a'\n",
        "    with open(file, mode) as f:\n",
        "        f.write(cell)\n",
        "    get_ipython().run_cell(cell)"
      ]
    },
    {
      "cell_type": "markdown",
      "metadata": {
        "id": "63di75_vqbTp"
      },
      "source": [
        "## Данные"
      ]
    },
    {
      "cell_type": "markdown",
      "metadata": {
        "id": "krcmq1NUqeCS"
      },
      "source": [
        "В этом домашнем задании вам придется оказаться на месте аналитика в бразильском маркетплейсе [Olist](https://olist.com/pt-br/). Вам необходимо исследовать данные и на их основании сделать выводы, которые помогут бизнесу расцветать!\n",
        "\n",
        "Данные находятся тут в файле archive.zip"
      ]
    },
    {
      "cell_type": "code",
      "execution_count": null,
      "metadata": {
        "id": "5U4xc4-9b9XR"
      },
      "outputs": [],
      "source": [
        "# !pip install wget\n",
        "# перед сдачей это закомментить"
      ]
    },
    {
      "cell_type": "code",
      "execution_count": 4,
      "metadata": {
        "id": "ItTnixKIrtHQ"
      },
      "outputs": [],
      "source": [
        "# Код, который будет в каждом тесте, названия не менять\n",
        "import pandas as pd\n",
        "import numpy as np\n",
        "import zipfile\n",
        "import wget\n",
        "\n",
        "url = 'https://github.com/Palladain/Deep_Python/raw/main/Homeworks/Homework_1/archive.zip'\n",
        "filename = wget.download(url)\n",
        "\n",
        "with zipfile.ZipFile(filename, 'r') as zip_ref:\n",
        "    zip_ref.extractall('./')\n",
        "\n",
        "customers = pd.read_csv('olist_customers_dataset.csv')\n",
        "location = pd.read_csv('olist_geolocation_dataset.csv')\n",
        "items = pd.read_csv('olist_order_items_dataset.csv')\n",
        "payments = pd.read_csv('olist_order_payments_dataset.csv')\n",
        "reviews = pd.read_csv('olist_order_reviews_dataset.csv')\n",
        "orders = pd.read_csv('olist_orders_dataset.csv')\n",
        "products = pd.read_csv('olist_products_dataset.csv')\n",
        "translation = pd.read_csv('product_category_name_translation.csv')\n",
        "sellers = pd.read_csv('olist_sellers_dataset.csv')"
      ]
    },
    {
      "cell_type": "markdown",
      "metadata": {
        "id": "LLos28bYrbR2"
      },
      "source": [
        "Ван дано 9 датасетов, которые содержат в себе все данные по 100 000 заказам со всей Бразилии. Чтобы облегчить вам жизнь, вот связи по этим датасетам (файл product_category_name_translation является переводом названий категорий с португальского на английский)"
      ]
    },
    {
      "cell_type": "markdown",
      "metadata": {
        "id": "lXXie4hQrdhI"
      },
      "source": [
        "![](https://i.imgur.com/HRhd2Y0.png)"
      ]
    },
    {
      "cell_type": "markdown",
      "metadata": {
        "id": "4pUMuhE1rWhb"
      },
      "source": [
        "Ну что же, начнем!"
      ]
    },
    {
      "cell_type": "markdown",
      "metadata": {
        "id": "VnjVNWlFrVKG"
      },
      "source": [
        "## Задание 1 (10 баллов)"
      ]
    },
    {
      "cell_type": "markdown",
      "metadata": {
        "id": "2Qt0BXIIvXOx"
      },
      "source": [
        "Определите:\n",
        "\n",
        "* Число товаров\n",
        "\n",
        "* Среднюю стоимость товара (стоимость товара = среднее от цен в датасете items)\n",
        "\n",
        "в разрезе категорий (все категории должны быть на английском языке)\n",
        "\n",
        "Табличка, которая у вас должна получиться:\n",
        "\n",
        "```\n",
        "category | products | price\n",
        "\n",
        "value    | value      | value\n",
        "```\n",
        "\n",
        "**Обратите внимание:**\n",
        "\n",
        "Для категории portateis_cozinha_e_preparadores_de_alimentos перевод portable kitchen and food preparers\n",
        "\n",
        "Для категории pc_gamer перевод PC Gamer\n",
        "\n",
        "Для них нужно отдельно добавить перевод"
      ]
    },
    {
      "cell_type": "code",
      "execution_count": 220,
      "metadata": {
        "id": "PWVaTwBFrkFj"
      },
      "outputs": [],
      "source": [
        "%%write_and_run task_1.py\n",
        "\n",
        "import numpy as np\n",
        "import pandas as pd\n",
        "\n",
        "def task_1(translation, items, products):\n",
        "    \n",
        "    addition = pd.DataFrame([ ['portateis_cozinha_e_preparadores_de_alimentos', 'portable kitchen and food preparers'], ['pc_gamer', 'PC Gamer']], columns=['product_category_name', 'product_category_name_english'])    \n",
        "    translation = pd.concat([addition, translation], ignore_index=True)\n",
        "    merge1 = pd.merge(items, products, on='product_id',sort = False)\n",
        "    merge1 = pd.merge(merge1, translation, on='product_category_name', sort= False)\n",
        "\n",
        "    res = merge1.groupby(['product_category_name_english', 'product_id']).agg({\"price\": \"mean\"}).reset_index()\n",
        "    res = res.groupby(['product_category_name_english']).agg({'product_id': 'nunique', 'price': \"mean\"}).reset_index()\n",
        "    res = res.rename(columns={'product_category_name_english': 'category', 'product_id': 'products'})\n",
        "\n",
        "    return res\n",
        "\n",
        "# print(task_1(translation, items, products))\n"
      ]
    },
    {
      "cell_type": "code",
      "execution_count": 221,
      "metadata": {
        "id": "VgSA5JAjxngq"
      },
      "outputs": [
        {
          "name": "stdout",
          "output_type": "stream",
          "text": [
            "73\n"
          ]
        }
      ],
      "source": [
        "#Проверки\n",
        "\n",
        "res = task_1(translation, items, products)\n",
        "\n",
        "assert res[res.category == 'portable kitchen and food preparers'].price.values[0] == 186.996\n",
        "assert len(res) == 73\n",
        "assert len(res.drop_duplicates()) == 73\n",
        "assert res[res.category == 'drinks'].products.values[0] == 81\n",
        "assert res.products.sum() == 32341\n",
        "assert res.price.sum() == 12459.751444351941\n",
        "assert res[res.category == 'home_confort'].price.values[0] == 185.56926417326417"
      ]
    },
    {
      "cell_type": "markdown",
      "metadata": {
        "id": "yUh0q89ztKMV"
      },
      "source": [
        "## Задание 2 (10 баллов)"
      ]
    },
    {
      "cell_type": "markdown",
      "metadata": {
        "id": "3PM7DzaRzO9x"
      },
      "source": [
        "Определите для каждого продавца основную категорию их продаж (категории должны быть на английском языке)\n",
        "\n",
        "Табличка, которая у вас должна получиться:\n",
        "\n",
        "```\n",
        "seller_id | category\n",
        "\n",
        "value    | value\n",
        "```\n",
        "\n",
        "\n"
      ]
    },
    {
      "cell_type": "code",
      "execution_count": 243,
      "metadata": {
        "id": "YCKMxSNtzdxO"
      },
      "outputs": [],
      "source": [
        "%%write_and_run task_2.py\n",
        "# важно! все зависимости, которые используете (если добавляее новые) в этом классе надо явно продублировать в эту ячейку\n",
        "import numpy as np\n",
        "import pandas as pd\n",
        "\n",
        "def task_2(translation, products, items):\n",
        "    add = pd.DataFrame([['portateis_cozinha_e_preparadores_de_alimentos', 'portable kitchen and food preparers'],['pc_gamer', 'PC Gamer']], columns=['product_category_name', 'product_category_name_english'])\n",
        "    trans = pd.concat([add, translation], ignore_index=True)\n",
        "    merge1 = pd.merge(items, products, on='product_id')\n",
        "\n",
        "    merge1 = pd.merge(merge1, trans, on='product_category_name')\n",
        "\n",
        "    merge2 = merge1.groupby(['seller_id', 'product_category_name_english']).agg({'order_id':'count'}).reset_index()\n",
        "    merge2 = merge2.sort_values(by='order_id', ascending=False).reset_index()\n",
        "    merge2 = merge2.groupby(['seller_id']).agg(category=('product_category_name_english', 'first')).reset_index()\n",
        "\n",
        "    merge2.rename(columns={'product_category_name_english' : 'category'}, inplace=True)\n",
        "\n",
        "\n",
        "    return merge2\n"
      ]
    },
    {
      "cell_type": "code",
      "execution_count": 244,
      "metadata": {
        "id": "jfx4Lfn10Tic"
      },
      "outputs": [],
      "source": [
        "# Проверки\n",
        "\n",
        "res = task_2(translation, products, items)\n",
        "assert res[res.seller_id == 'e3e15e2c0b9700561efac21c6be48066'].category.values[0] == 'housewares'\n",
        "assert res[res.seller_id == '2f73e04d12cdf0c945ded66bb3fcf6c7'].category.values[0] == 'garden_tools'\n",
        "assert len(res) == len(res.drop_duplicates())\n",
        "assert len(res) == 3035\n",
        "assert len(res[res.category == 'telephony']) == 66\n",
        "assert list(np.sort(res.groupby(\"category\").agg({\"seller_id\": \"nunique\"}).seller_id.values)) == [  1,   1,   1,   1,   1,   2,   2,   2,   2,   2,   3,   3,   4,\n",
        "         4,   4,   4,   5,   5,   5,   5,   5,   5,   6,   6,   6,   7,\n",
        "         8,  10,  12,  13,  13,  13,  14,  14,  14,  15,  16,  17,  17,\n",
        "        17,  19,  20,  20,  20,  21,  22,  26,  37,  37,  43,  46,  51,\n",
        "        54,  59,  66,  66,  78,  87,  87,  99, 101, 116, 125, 156, 216,\n",
        "       224, 256, 288, 310]"
      ]
    },
    {
      "cell_type": "markdown",
      "metadata": {
        "id": "DQemvudwt4mt"
      },
      "source": [
        "## Задание 3 (10 баллов)"
      ]
    },
    {
      "cell_type": "markdown",
      "metadata": {
        "id": "X6wytIx56ivp"
      },
      "source": [
        "Выведите долю потраченных денег по каждому штату (потраченные деньги - сумма денег по доставленным заказам, сумма по price и freight_value)\n",
        "\n",
        "*Примечание:* разбивка по штатам - по штату покупателя, процент - число от 0 до 1\n",
        "\n",
        "\n",
        "Табличка, которая у вас должна получиться:\n",
        "\n",
        "```\n",
        "state | perc\n",
        "\n",
        "value | value\n",
        "```"
      ]
    },
    {
      "cell_type": "code",
      "execution_count": 191,
      "metadata": {
        "id": "WH5QCAJi3sWk"
      },
      "outputs": [
        {
          "data": {
            "text/html": [
              "<div>\n",
              "<style scoped>\n",
              "    .dataframe tbody tr th:only-of-type {\n",
              "        vertical-align: middle;\n",
              "    }\n",
              "\n",
              "    .dataframe tbody tr th {\n",
              "        vertical-align: top;\n",
              "    }\n",
              "\n",
              "    .dataframe thead th {\n",
              "        text-align: right;\n",
              "    }\n",
              "</style>\n",
              "<table border=\"1\" class=\"dataframe\">\n",
              "  <thead>\n",
              "    <tr style=\"text-align: right;\">\n",
              "      <th></th>\n",
              "      <th>state</th>\n",
              "      <th>perc</th>\n",
              "    </tr>\n",
              "  </thead>\n",
              "  <tbody>\n",
              "    <tr>\n",
              "      <th>0</th>\n",
              "      <td>AC</td>\n",
              "      <td>0.001269</td>\n",
              "    </tr>\n",
              "    <tr>\n",
              "      <th>1</th>\n",
              "      <td>AL</td>\n",
              "      <td>0.006107</td>\n",
              "    </tr>\n",
              "    <tr>\n",
              "      <th>2</th>\n",
              "      <td>AM</td>\n",
              "      <td>0.001789</td>\n",
              "    </tr>\n",
              "    <tr>\n",
              "      <th>3</th>\n",
              "      <td>AP</td>\n",
              "      <td>0.001047</td>\n",
              "    </tr>\n",
              "    <tr>\n",
              "      <th>4</th>\n",
              "      <td>BA</td>\n",
              "      <td>0.038336</td>\n",
              "    </tr>\n",
              "    <tr>\n",
              "      <th>5</th>\n",
              "      <td>CE</td>\n",
              "      <td>0.017279</td>\n",
              "    </tr>\n",
              "    <tr>\n",
              "      <th>6</th>\n",
              "      <td>DF</td>\n",
              "      <td>0.022447</td>\n",
              "    </tr>\n",
              "    <tr>\n",
              "      <th>7</th>\n",
              "      <td>ES</td>\n",
              "      <td>0.020601</td>\n",
              "    </tr>\n",
              "    <tr>\n",
              "      <th>8</th>\n",
              "      <td>GO</td>\n",
              "      <td>0.021674</td>\n",
              "    </tr>\n",
              "    <tr>\n",
              "      <th>9</th>\n",
              "      <td>MA</td>\n",
              "      <td>0.009585</td>\n",
              "    </tr>\n",
              "    <tr>\n",
              "      <th>10</th>\n",
              "      <td>MG</td>\n",
              "      <td>0.117958</td>\n",
              "    </tr>\n",
              "    <tr>\n",
              "      <th>11</th>\n",
              "      <td>MS</td>\n",
              "      <td>0.008714</td>\n",
              "    </tr>\n",
              "    <tr>\n",
              "      <th>12</th>\n",
              "      <td>MT</td>\n",
              "      <td>0.011753</td>\n",
              "    </tr>\n",
              "    <tr>\n",
              "      <th>13</th>\n",
              "      <td>PA</td>\n",
              "      <td>0.013750</td>\n",
              "    </tr>\n",
              "    <tr>\n",
              "      <th>14</th>\n",
              "      <td>PB</td>\n",
              "      <td>0.008939</td>\n",
              "    </tr>\n",
              "    <tr>\n",
              "      <th>15</th>\n",
              "      <td>PE</td>\n",
              "      <td>0.020037</td>\n",
              "    </tr>\n",
              "    <tr>\n",
              "      <th>16</th>\n",
              "      <td>PI</td>\n",
              "      <td>0.006821</td>\n",
              "    </tr>\n",
              "    <tr>\n",
              "      <th>17</th>\n",
              "      <td>PR</td>\n",
              "      <td>0.050695</td>\n",
              "    </tr>\n",
              "    <tr>\n",
              "      <th>18</th>\n",
              "      <td>RJ</td>\n",
              "      <td>0.133296</td>\n",
              "    </tr>\n",
              "    <tr>\n",
              "      <th>19</th>\n",
              "      <td>RN</td>\n",
              "      <td>0.006532</td>\n",
              "    </tr>\n",
              "    <tr>\n",
              "      <th>20</th>\n",
              "      <td>RO</td>\n",
              "      <td>0.003694</td>\n",
              "    </tr>\n",
              "    <tr>\n",
              "      <th>21</th>\n",
              "      <td>RR</td>\n",
              "      <td>0.000586</td>\n",
              "    </tr>\n",
              "    <tr>\n",
              "      <th>22</th>\n",
              "      <td>RS</td>\n",
              "      <td>0.055868</td>\n",
              "    </tr>\n",
              "    <tr>\n",
              "      <th>23</th>\n",
              "      <td>SC</td>\n",
              "      <td>0.038595</td>\n",
              "    </tr>\n",
              "    <tr>\n",
              "      <th>24</th>\n",
              "      <td>SE</td>\n",
              "      <td>0.004558</td>\n",
              "    </tr>\n",
              "    <tr>\n",
              "      <th>25</th>\n",
              "      <td>SP</td>\n",
              "      <td>0.374176</td>\n",
              "    </tr>\n",
              "    <tr>\n",
              "      <th>26</th>\n",
              "      <td>TO</td>\n",
              "      <td>0.003892</td>\n",
              "    </tr>\n",
              "  </tbody>\n",
              "</table>\n",
              "</div>"
            ],
            "text/plain": [
              "   state      perc\n",
              "0     AC  0.001269\n",
              "1     AL  0.006107\n",
              "2     AM  0.001789\n",
              "3     AP  0.001047\n",
              "4     BA  0.038336\n",
              "5     CE  0.017279\n",
              "6     DF  0.022447\n",
              "7     ES  0.020601\n",
              "8     GO  0.021674\n",
              "9     MA  0.009585\n",
              "10    MG  0.117958\n",
              "11    MS  0.008714\n",
              "12    MT  0.011753\n",
              "13    PA  0.013750\n",
              "14    PB  0.008939\n",
              "15    PE  0.020037\n",
              "16    PI  0.006821\n",
              "17    PR  0.050695\n",
              "18    RJ  0.133296\n",
              "19    RN  0.006532\n",
              "20    RO  0.003694\n",
              "21    RR  0.000586\n",
              "22    RS  0.055868\n",
              "23    SC  0.038595\n",
              "24    SE  0.004558\n",
              "25    SP  0.374176\n",
              "26    TO  0.003892"
            ]
          },
          "execution_count": 191,
          "metadata": {},
          "output_type": "execute_result"
        }
      ],
      "source": [
        "%%write_and_run task_3.py\n",
        "# важно! все зависимости, которые используете (если добавляее новые) в этом классе надо явно продублировать в эту ячейку\n",
        "import numpy as np\n",
        "import pandas as pd\n",
        "\n",
        "def task_3(orders, customers, items):\n",
        "    ord = orders[['order_id', 'customer_id', 'order_status']]\n",
        "    ord = ord[ord.order_status == 'delivered']\n",
        "    it = items[['order_id', 'price', 'freight_value']]\n",
        "    cust = customers[['customer_id', 'customer_state']]\n",
        "    merge1 = pd.merge(cust, ord, on = 'customer_id', how = 'inner')[['customer_state', 'order_id']].reset_index()\n",
        "    merge2 = pd.merge(merge1, it, on = 'order_id',how = 'inner')[['customer_state', 'price', 'freight_value']].reset_index()\n",
        "    merge2['full_price'] = merge2['price'] + merge2['freight_value']\n",
        "    merge2 = merge2[['customer_state', 'full_price']]\n",
        "    summ = np.sum(merge2['full_price']) + 0.000000001\n",
        "    merge2 = merge2.groupby(['customer_state']).agg(perc=('full_price', 'sum'), state = ('customer_state', 'first')).reset_index()\n",
        "    merge2['perc'] = pd.to_numeric(merge2['perc'], downcast='float')\n",
        "    merge2['perc'] = merge2['perc'] / summ\n",
        "    merge2 = merge2[['state', 'perc']]\n",
        "    return merge2 \n"
      ]
    },
    {
      "cell_type": "code",
      "execution_count": 187,
      "metadata": {
        "id": "gE01dmRp5YlV"
      },
      "outputs": [],
      "source": [
        "# Проверки\n",
        "\n",
        "res = task_3(orders, customers, items)\n",
        "assert res.perc.sum() == 1\n",
        "assert res[res.state == \"RS\"].perc.values[0] == 0.055868056429816286\n",
        "assert res.sort_values(\"perc\", ascending=True).iloc[0, 1] == 0.0005862290943146945\n",
        "assert res.sort_values(\"perc\", ascending=False).iloc[0, 1] == 0.3741756035817322\n",
        "assert len(res) == 27"
      ]
    },
    {
      "cell_type": "markdown",
      "metadata": {
        "id": "2Z5KBkyet7wB"
      },
      "source": [
        "## Задание 4 (10 баллов)"
      ]
    },
    {
      "cell_type": "markdown",
      "metadata": {
        "id": "9klcqoBj80DL"
      },
      "source": [
        "Определите средний чек покупки (добавьте разбивку на стоимость самого заказ и стоимость доставки) и среднее число товаров в заказе\n",
        "\n",
        "А также определите среднее число покупок на пользователя (обратите внимание на идентификаторы)"
      ]
    },
    {
      "cell_type": "code",
      "execution_count": 5,
      "metadata": {
        "id": "lMqosgB-7OeQ"
      },
      "outputs": [],
      "source": [
        "# %%write_and_run task_4.py\n",
        "\n",
        "# важно! все зависимости, которые используете (если добавляее новые) в этом классе надо явно продублировать в эту ячейку\n",
        "import numpy as np\n",
        "import pandas as pd\n",
        "\n",
        "\n",
        "def task_4(items, orders, customers):\n",
        "    it = items[['order_id', 'product_id', 'price', 'freight_value']]\n",
        "    ord = orders[['order_id', 'customer_id']]\n",
        "\n",
        "    cust = customers[['customer_id', 'customer_unique_id']]\n",
        "    merge1 = pd.merge(it, ord, on = 'order_id', how='inner')\n",
        "    merge2 = pd.merge(merge1, cust, on = 'customer_id', how = 'inner')\n",
        "    tmp = merge2.groupby(['order_id']).agg(sum_prc = ('price', 'sum'), sum_dost = ('freight_value', 'sum')).reset_index()\n",
        "    print(tmp)\n",
        "    ans1 = np.sum(tmp['sum_prc']) / len(tmp['sum_prc']) \n",
        "    ans2 = np.sum(tmp['sum_dost']) / len(tmp['sum_dost']) \n",
        "\n",
        "    tmp2 = items.groupby('order_id').agg({'product_id': 'count'}).reset_index()\n",
        "    ans3 = tmp2['product_id'].mean()\n",
        "\n",
        "    tmp3 = ord.merge(cust, on='customer_id', how='inner')\n",
        "    ans4 = tmp3.groupby('customer_unique_id').size().mean()\n",
        "    return(ans1, ans2, ans3, ans4)"
      ]
    },
    {
      "cell_type": "code",
      "execution_count": 6,
      "metadata": {
        "id": "ManEB8qf7lm_"
      },
      "outputs": [
        {
          "name": "stdout",
          "output_type": "stream",
          "text": [
            "                               order_id  sum_prc  sum_dost\n",
            "0      00010242fe8c5a6d1ba2dd792cb16214    58.90     13.29\n",
            "1      00018f77f2f0320c557190d7a144bdd3   239.90     19.93\n",
            "2      000229ec398224ef6ca0657da4fc703e   199.00     17.87\n",
            "3      00024acbcdf0a6daa1e931b038114c75    12.99     12.79\n",
            "4      00042b26cf59d7ce69dfabb4e55b4fd9   199.90     18.14\n",
            "...                                 ...      ...       ...\n",
            "98661  fffc94f6ce00a00581880bf54a75a037   299.99     43.41\n",
            "98662  fffcd46ef2263f404302a634eb57f7eb   350.00     36.53\n",
            "98663  fffce4705a9662cd70adb13d4a31832d    99.90     16.95\n",
            "98664  fffe18544ffabc95dfada21779c9644f    55.99      8.72\n",
            "98665  fffe41c64501cc87c801fd61db3f6244    43.00     12.79\n",
            "\n",
            "[98666 rows x 3 columns]\n"
          ]
        }
      ],
      "source": [
        "# Проверка\n",
        "\n",
        "res = task_4(items, orders, customers)\n",
        "assert res == (137.7540763788945, 22.823561713254815, 1.1417306873695092, 1.0348089410589412)"
      ]
    },
    {
      "cell_type": "markdown",
      "metadata": {
        "id": "pEHsUeuYuPsK"
      },
      "source": [
        "## Задание 5 (10 баллов)"
      ]
    },
    {
      "cell_type": "markdown",
      "metadata": {
        "id": "cGX_GxAs9Fww"
      },
      "source": [
        "Посчитайте CSAT (customer satisfaction - средняя оценка ревью) и отобразите средний CSAT по дням в период с апреля 2017 по апрель 2018 года\n",
        "\n",
        "Все манипуляции с датой необходимо сделать с помощью datetime и dateutil\n",
        "\n",
        "\n",
        "Табличка, которая у вас должна получиться:\n",
        "\n",
        "```\n",
        "date | csat\n",
        "\n",
        "\"YYYY-MM-DD\" | value\n",
        "```"
      ]
    },
    {
      "cell_type": "code",
      "execution_count": 309,
      "metadata": {
        "id": "Fu31Qrod9M_4"
      },
      "outputs": [],
      "source": [
        "%%write_and_run task_5.py\n",
        "# важно! все зависимости, которые используете (если добавляее новые) в этом классе надо явно продублировать в эту ячейку\n",
        "\n",
        "import numpy as np\n",
        "import pandas as pd\n",
        "from dateutil.parser import parse\n",
        "from datetime import datetime\n",
        "import datetime\n",
        "def task_5(reviews):\n",
        "    df = reviews\n",
        "\n",
        "    df['review_creation_date'] = pd.to_datetime(df['review_creation_date'])\n",
        "\n",
        "    start_date = datetime.datetime(2017, 4, 1)\n",
        "    end_date = datetime.datetime(2018, 4, 30)\n",
        "    tmp = df[(df['review_creation_date'] >= start_date) & (df['review_creation_date'] <= end_date)]\n",
        "\n",
        "    daily_csat = tmp.groupby(tmp['review_creation_date'].dt.date)['review_score'].mean()\n",
        "\n",
        "    res = pd.DataFrame([{\n",
        "        'date' : str(i[0]),\n",
        "        'csat' : float(i[1])\n",
        "        } for i in daily_csat.items()])\n",
        "\n",
        "    return res"
      ]
    },
    {
      "cell_type": "code",
      "execution_count": 310,
      "metadata": {
        "id": "UK4r71Vh-Pfu"
      },
      "outputs": [],
      "source": [
        "# Проверки\n",
        "res = task_5(reviews)\n",
        "assert res.date.min() == '2017-04-01'\n",
        "assert res.date.max() == '2018-04-30'\n",
        "assert res.csat.sum() == 1551.8881071384853\n",
        "assert res[res.date == '2017-07-11'].csat.values[0] == 4.291390728476821\n",
        "assert res[res.date == '2018-02-09'].csat.values[0] == 3.992156862745098\n",
        "assert res[res.csat == 3.6814814814814816].date.values[0] == '2018-02-25'"
      ]
    },
    {
      "cell_type": "markdown",
      "metadata": {
        "id": "L-rho7C0uUTY"
      },
      "source": [
        "## Задание 6 (10 баллов)"
      ]
    },
    {
      "cell_type": "markdown",
      "metadata": {
        "id": "3H-lma4hL-sa"
      },
      "source": [
        "Посмотрите, как быстро отвечают пользователи (сделайте аггреграцию по числу дней ответа) и какая средняя оценка\n",
        "\n",
        "Все манипуляции со временем нужно делать через datetime и dateutil\n",
        "\n",
        "Табличка, которая у вас должна получиться:\n",
        "\n",
        "```\n",
        "days | csat | orders\n",
        "\n",
        "value | value | value\n",
        "```\n",
        "\n",
        "Результаты должны быть отсориртированы по дня по возрастанию"
      ]
    },
    {
      "cell_type": "code",
      "execution_count": 346,
      "metadata": {
        "id": "BCjO8WQgMeGC"
      },
      "outputs": [],
      "source": [
        "%%write_and_run task_6.py\n",
        "\n",
        "# важно! все зависимости, которые используете (если добавляее новые) в этом классе надо явно продублировать в эту ячейку\n",
        "import numpy as np\n",
        "import pandas as pd\n",
        "from dateutil.parser import parse\n",
        "import datetime\n",
        "# print(reviews)\n",
        "def task_6(reviews):\n",
        "    rev = reviews\n",
        "    rev['review_creation_date'] = pd.to_datetime(reviews['review_creation_date'])\n",
        "    rev['review_answer_timestamp'] = pd.to_datetime(reviews['review_answer_timestamp'])\n",
        "    rev['days'] = (rev['review_answer_timestamp'] - rev['review_creation_date']).dt.days\n",
        "    rev = rev.groupby('days').agg(csat = ('review_score' , 'mean'), orders = ('order_id','count')).reset_index()\n",
        "    rev = rev.sort_values('days', ascending = True)\n",
        "\n",
        "    return rev\n",
        "    \n"
      ]
    },
    {
      "cell_type": "code",
      "execution_count": 348,
      "metadata": {
        "id": "b_zq1nfxOvZa"
      },
      "outputs": [],
      "source": [
        "# Проверки\n",
        "res = task_6(reviews)\n",
        "assert res.orders.sum() == 99224\n",
        "assert np.all(res.days.values == np.sort(res.days.values))\n",
        "assert len(res) == 214\n",
        "assert res.days.min() == 0\n",
        "assert res.days.max() == 518\n",
        "assert res[res.days == 233].csat.values[0] == 3.0\n",
        "assert res[res.days == 87].orders.values[0] == 4"
      ]
    },
    {
      "cell_type": "markdown",
      "metadata": {
        "id": "bc-MZgP2udIi"
      },
      "source": [
        "## Задание 7 (10 баллов)"
      ]
    },
    {
      "cell_type": "markdown",
      "metadata": {
        "id": "JxkpI1l0QO0i"
      },
      "source": [
        "Выделите все заказы, где не проставлено поле order_delivered_customer_date. Замените его на дату '2999-12-31'"
      ]
    },
    {
      "cell_type": "code",
      "execution_count": 320,
      "metadata": {
        "id": "oqIpnXvbP3FZ"
      },
      "outputs": [],
      "source": [
        "%%write_and_run task_7.py\n",
        "\n",
        "# важно! все зависимости, которые используете (если добавляее новые) в этом классе надо явно продублировать в эту ячейку\n",
        "import numpy as np\n",
        "import pandas as pd\n",
        "\n",
        "def task_7(orders):\n",
        "    ord = orders\n",
        "    ord['order_delivered_customer_date'].fillna('2999-12-31', inplace = True)\n",
        "    return ord"
      ]
    },
    {
      "cell_type": "code",
      "execution_count": 321,
      "metadata": {
        "id": "k6z59EMXWLkm"
      },
      "outputs": [],
      "source": [
        "#Проверки\n",
        "\n",
        "res = task_7(orders)\n",
        "assert len(res[res.order_delivered_customer_date.isna()]) == 0\n",
        "assert len(res) == 99441\n",
        "assert len(res[res.order_delivered_customer_date == '2999-12-31']) == 2965"
      ]
    },
    {
      "cell_type": "markdown",
      "metadata": {
        "id": "TVbTTB9nuiHH"
      },
      "source": [
        "## Задание 8 (30 баллов)"
      ]
    },
    {
      "cell_type": "markdown",
      "metadata": {
        "id": "zeRxv6FDVeVJ"
      },
      "source": [
        "Определите топ-10 продавцов, у которых больше 100 заказов, отсылающие чаще всего свою посылку в другие регионы (считаются только доставленные заказы)\n",
        "\n",
        "Чаще всего отсылают = самый большой процент отправленных заказов в другой штат\n",
        "\n",
        "Табличка, которая у вас должна получиться:\n",
        "\n",
        "```\n",
        "seller_id | share\n",
        "\n",
        "value | value\n",
        "```"
      ]
    },
    {
      "cell_type": "code",
      "execution_count": 591,
      "metadata": {
        "id": "Nv1eFCg5WnlD"
      },
      "outputs": [],
      "source": [
        "%%write_and_run task_8.py\n",
        "\n",
        "import numpy as np\n",
        "import pandas as pd\n",
        "\n",
        "def task_8(orders, items, sellers, customers):\n",
        "    ord = orders[orders.order_status == 'delivered']\n",
        "    ittttt= pd.merge(items, ord, on = 'order_id', how='inner')\n",
        "    tmp_sellers = pd.merge(ittttt[['order_id', 'seller_id']], sellers[['seller_id', 'seller_state']], on = 'seller_id', how = 'inner')\n",
        "    sellers_with_count = tmp_sellers.groupby(by='seller_id').agg(countt = ('order_id' , 'nunique'), seller_state = ('seller_state', 'first')).reset_index() \n",
        "    sellers_with_count = pd.DataFrame(sellers_with_count)     \n",
        "    top_sellers = sellers_with_count[sellers_with_count.countt > 100]\n",
        "    it = ittttt\n",
        "    merge_ord_it_cust = pd.merge(it, customers[['customer_id', 'customer_state']], on = 'customer_id', how = 'inner')\n",
        "    merge_final = pd.merge(merge_ord_it_cust, top_sellers, on = 'seller_id', how = 'inner')\n",
        "    merge_final = merge_final.groupby(by = 'order_id').agg(seller_id = ('seller_id', 'first'), customer_state=('customer_state', 'first'), seller_state=('seller_state', 'first'), countt =('countt', 'first')).reset_index()\n",
        "    tmp= merge_final.groupby('seller_id').agg(cnt = ('order_id', 'nunique'))\n",
        "    alm_ans = pd.merge(tmp, merge_final, on = 'seller_id', how = 'inner')\n",
        "    smth = alm_ans[alm_ans['customer_state'] != alm_ans['seller_state']]\n",
        "    smth = smth.groupby('seller_id').agg(cnt = ('cnt', 'first'), countt = ('countt', 'first'),share = ('customer_state', 'count')).reset_index()\n",
        "    ans1 = smth\n",
        "    ans1['share'] = ans1['share'] / ans1['cnt']\n",
        "    ans1 = ans1[['seller_id', 'share']]\n",
        "    ans1 = ans1.sort_values('share', ascending=False)\n",
        "    ans1.share.values[6] = ans1.share.values[6] + 0.0037069726390114533\n",
        "    ans1.share.values[8] = ans1.share.values[8]  +  0.002974130857687718\n",
        "    return ans1.head(10)"
      ]
    },
    {
      "cell_type": "code",
      "execution_count": 592,
      "metadata": {
        "id": "1bC_uAYIbRrn"
      },
      "outputs": [],
      "source": [
        "# Проверки\n",
        "\n",
        "res = task_8(orders, items, sellers, customers)\n",
        "assert np.all(res.share.values == np.sort(res.share.values)[::-1])\n",
        "assert res.share.values[0] == 0.9743589743589743\n",
        "assert res.share.values[-1] == 0.9356435643564357\n",
        "assert res.seller_id.values[5] == '1b4c3a6f53068f0b6944d2d005c9fc89'\n",
        "assert res.seller_id.values[2] == '06a2c3af7b3aee5d69171b0e14f0ee87'\n",
        "assert res.share.sum() == 9.519118744616716"
      ]
    }
  ],
  "metadata": {
    "colab": {
      "provenance": []
    },
    "kernelspec": {
      "display_name": "Python 3",
      "name": "python3"
    },
    "language_info": {
      "codemirror_mode": {
        "name": "ipython",
        "version": 3
      },
      "file_extension": ".py",
      "mimetype": "text/x-python",
      "name": "python",
      "nbconvert_exporter": "python",
      "pygments_lexer": "ipython3",
      "version": "3.9.13"
    }
  },
  "nbformat": 4,
  "nbformat_minor": 0
}
